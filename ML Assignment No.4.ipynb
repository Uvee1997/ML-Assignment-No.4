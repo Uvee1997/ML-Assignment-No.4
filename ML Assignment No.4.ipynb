{
 "cells": [
  {
   "cell_type": "markdown",
   "id": "979d78d1",
   "metadata": {},
   "source": [
    "1) What are the key tasks involved in getting ready to work with machine learning modeling?\n",
    "\n",
    ":- Step 1: Collect Data.\n",
    "   Step 2: Prepare the data.\n",
    "   Step 3: Choose the model.\n",
    "   Step 4 Train your machine model.\n",
    "   Step 5: Evaluation.\n",
    "   Step 6: Parameter Tuning.\n",
    "   Step 7: Prediction or Inference."
   ]
  },
  {
   "cell_type": "markdown",
   "id": "e206ca0c",
   "metadata": {},
   "source": [
    "2) What are the different forms of data used in machine learning? Give a specific example for each of them.\n",
    "\n",
    ":- There are 4 types of data - Numerical Data , Categorical Data , Time Series Data , Text.\n",
    "   Numerical data can be charaterized as continous & discrete\n",
    "   E.g - continous = 23.49 , 45.76 , 89.26\n",
    "         discrete = 33 , 56 , 78 , 12\n",
    "        \n",
    "   Categorical data = 0-10 million , 10-100 million , 100-500 million , >500 million\n",
    "   \n",
    "   Time series data = Time series data is a sequence of numbers collected at regular intervals over some period of time.\n",
    "                      Time series data has a temporal value attached to it, so this would be something like a date or a                           timestamp that you can look for trends in time. \n",
    "                      \n",
    "   Text = It just a word.                   "
   ]
  },
  {
   "cell_type": "markdown",
   "id": "5169d50e",
   "metadata": {},
   "source": [
    "3) Distinguish:\n",
    "    \n",
    "   i) Numeric vs. categorical attributes:-\n",
    "      Numerical data refers to the data that is in the form of numbers, and not in any language or descriptive form.\n",
    "      Categorical data refers to a data type that can be stored and identified based on the names or labels given to them.\n",
    "      Numerical data known as quantitative data as it represents quantitative values to perform arithmetic operations on         them.\n",
    "      Categorical data also known as qualitative data as it qualifies data before classifying it. \n",
    "      Numerical data is Discrete data and Continuous data.\n",
    "      categorical data is Nominal data and Ordinal data.\n",
    "    \n",
    "    \n",
    "   ii) Feature selection vs. dimensionality reduction:- \n",
    "       Feature selection yields a subset of features from the original set of features, which are best representatives of          the data. It is an exhaustive search.\n",
    "     -In text data, features might be size of characters or some global features of the text. Feature selection will keep         only certain features of those.\n",
    "     -Feature selection is done in the context of an optimization problem.\n",
    "        \n",
    "       Dimensionality reduction is generic and only depends on the data and not on what you plan to do with it.\n",
    "       Assuming a classification problem you select the features that will help you classify your data better, while a            dimensionality reduction algorithm is unaware of this and just projects the data into a lower dimensionality space.        That in turn can work quite well or not for your classification algorithm.\n",
    " "
   ]
  },
  {
   "cell_type": "markdown",
   "id": "be583a40",
   "metadata": {},
   "source": [
    "4) Make quick notes on any two of the following:\n",
    "    \n",
    "   i) The histogram - It is graphical representation of data points that arrrange group of data points into user define\n",
    "                      ages.The term was first introduced by Karl Pearson. To construct a histogram, the first step is to                        \"bin\" (or \"bucket\") the range of values—that is, divide the entire range of values into a series of                         intervals—and then count how many values fall into each interval. The bins are usually specified as                         consecutive, non-overlapping intervals of a variable. The bins (intervals) must be adjacent and are                         often (but not required to be) of equal size.If the bins are of equal size, a rectangle is erected                         over the bin with height proportional to the frequency—the number of cases in each bin. A histogram                         may also be normalized to display \"relative\" frequencies. Histogram gives rough sense of density of                         the underlying distribution of the data.\n",
    "                      \n",
    "                      \n",
    "    ii) Use a scatter plot - Scatter plots are used to plot data points on a horizontal and a vertical axis in the attempt                              to show how much one variable is affected by another. Each row in the data table is                                        represented by a marker whose position depends on its values in the columns set on the X and Y                              axes.                  "
   ]
  },
  {
   "cell_type": "markdown",
   "id": "683f2122",
   "metadata": {},
   "source": [
    "5) Why is it necessary to investigate data? Is there a discrepancy in how qualitative and quantitative\n",
    "   data are explored?\n",
    "    \n",
    ":- After doing analysis of your data it become lot more simpler and more accurate. We get brief idea about the given data.\n",
    "   In quantitative data is mesurable while in qualitative data is verble. "
   ]
  },
  {
   "cell_type": "markdown",
   "id": "d162bbea",
   "metadata": {},
   "source": [
    "6) What are the various histogram shapes? What exactly are 'bins'?\n",
    "\n",
    ":- The different types of a histogram are:\n",
    "    Uniform histogram.\n",
    "    Symmetric histogram.\n",
    "    Bimodal histogram.\n",
    "    Probability histogram.\n",
    "    \n",
    "    Bins - The towers or bars of a histogram is called as bines. "
   ]
  },
  {
   "cell_type": "markdown",
   "id": "7c53de8c",
   "metadata": {},
   "source": [
    "7) How do we deal with data outliers?\n",
    "\n",
    ":- i)Set up a filter in your testing tool. Even though this has a little cost, filtering out outliers is worth it.\n",
    "   ii)Remove or change outliers during post-test analysis.\n",
    "   iii)Change the value of outliers.\n",
    "   iv)Consider the underlying distribution.\n",
    "   v)Consider the value of mild outliers."
   ]
  },
  {
   "cell_type": "markdown",
   "id": "3ce78804",
   "metadata": {},
   "source": [
    "8) What are the various central inclination measures? Why does mean vary too much from median in certain data sets?\n",
    "\n",
    ":- Mean, Median, Mode. The outlier affects the mean much more than the median. One outlier can throw off the mean,            especially if you have a small dataset."
   ]
  },
  {
   "cell_type": "markdown",
   "id": "6ae5eb06",
   "metadata": {},
   "source": [
    "9) Describe how a scatter plot can be used to investigate bivariate relationships. Is it possible to find\n",
    "   outliers using a scatter plot?\n",
    "    \n",
    ":- It shows the important characteristics of the data and can be used to decide what model may describe the relationship      between the variables. The scatter plot is a fundamental tool for looking at bivariate data. If their is regression line \n",
    "   on scatter plot you identify outliers."
   ]
  },
  {
   "cell_type": "markdown",
   "id": "6550c8b5",
   "metadata": {},
   "source": [
    "10) Describe how cross-tabs can be used to figure out how two variables are related.\n",
    "\n",
    ":- To describe the relationship between two categorical variables, we use a special type of table called a cross-tabulation\n",
    "   In short we call it as cross-tab. the categories of one variable determine the rows of the table, and the categories of    the other variable determine the columns. Groups variables to understand the correlation between different variables.\n",
    "   "
   ]
  }
 ],
 "metadata": {
  "kernelspec": {
   "display_name": "Python 3 (ipykernel)",
   "language": "python",
   "name": "python3"
  },
  "language_info": {
   "codemirror_mode": {
    "name": "ipython",
    "version": 3
   },
   "file_extension": ".py",
   "mimetype": "text/x-python",
   "name": "python",
   "nbconvert_exporter": "python",
   "pygments_lexer": "ipython3",
   "version": "3.9.7"
  }
 },
 "nbformat": 4,
 "nbformat_minor": 5
}
